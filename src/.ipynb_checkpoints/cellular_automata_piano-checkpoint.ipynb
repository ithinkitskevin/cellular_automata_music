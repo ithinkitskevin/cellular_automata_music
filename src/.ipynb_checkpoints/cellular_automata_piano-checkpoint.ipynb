{
 "cells": [
  {
   "cell_type": "code",
   "execution_count": 345,
   "metadata": {},
   "outputs": [],
   "source": [
    "from mingus.containers import Composition, Track, Note, Bar, NoteContainer\n",
    "from mingus.midi import fluidsynth\n",
    "\n",
    "import mingus.core.chords as chords\n",
    "import mingus.core.notes as notes\n",
    "import mingus.core.scales as scales\n",
    "import time\n",
    "import pandas as pd\n",
    "import numpy as np"
   ]
  },
  {
   "cell_type": "code",
   "execution_count": 309,
   "metadata": {},
   "outputs": [],
   "source": [
    "# Constants\n",
    "MAX_TIME = 20\n",
    "MAX_ROW_LEN = 88  # Picked as 88 keys, but arbitrary \n",
    "rule_30_states = {\"111\": '0', \"110\": '0', \"101\": '0', \"000\": '0', \"100\": '1', \"011\": '1', \"010\": '1', \"001\": '1'}"
   ]
  },
  {
   "cell_type": "code",
   "execution_count": 335,
   "metadata": {},
   "outputs": [],
   "source": [
    "def create_elem_cell_auto_df(max_time, row_len, rule, initial_starts = None):\n",
    "    df = pd.DataFrame(np.zeros((max_time, row_len)))\n",
    "\n",
    "    for time, row in df.iterrows():\n",
    "        if time == 0:\n",
    "            if initial_starts is not None: \n",
    "                for start_ind in initial_starts:\n",
    "                    row[start_ind] = 1\n",
    "            else:\n",
    "                # Initialize, depending on if the row length is even/odd\n",
    "                start_ind = int(len(row) / 2)\n",
    "                if len(row) % 2 == 0:\n",
    "                    row[start_ind] = 1\n",
    "                    row[start_ind-1] = 1\n",
    "                else:\n",
    "                    row[start_ind] = 1\n",
    "                \n",
    "            continue\n",
    "        for ind in range(1, len(row)-1):\n",
    "            key = str(int(df.loc[time-1][ind-1])) + str(int(df.loc[time-1][ind])) + str(int(df.loc[time-1][ind+1]))\n",
    "            value = rule.get(key, 0)\n",
    "            row[ind] = value\n",
    "\n",
    "    return df"
   ]
  },
  {
   "cell_type": "code",
   "execution_count": 336,
   "metadata": {},
   "outputs": [],
   "source": [
    "def print_elem_cell_auto(df):\n",
    "    for time, row in df.iterrows():\n",
    "        for r in row:\n",
    "            if int(r) == 1:\n",
    "                print(u'\\u2588', end = '')\n",
    "            else:\n",
    "                print(' ', end = '')\n",
    "        print('')"
   ]
  },
  {
   "cell_type": "code",
   "execution_count": 352,
   "metadata": {},
   "outputs": [],
   "source": [
    "def piano_elem_cell_auto(df):\n",
    "    for time_ind, row in df.iterrows():\n",
    "        note_container = NoteContainer()\n",
    "        i = 0\n",
    "        for ind, r in enumerate(row):\n",
    "            if int(r) == 1:\n",
    "#                 if i >= 3:\n",
    "#                     continue\n",
    "                note = Note()\n",
    "                note.from_int(ind)\n",
    "                i+=1\n",
    "                \n",
    "                note_container.add_notes(note)\n",
    "        fluidsynth.play_NoteContainer(note_container)\n",
    "        time.sleep(0.5)"
   ]
  },
  {
   "cell_type": "code",
   "execution_count": 339,
   "metadata": {},
   "outputs": [],
   "source": [
    "def piano_filter_elem_cell_auto(df, filter_list: list):\n",
    "    map_filter = set(filter_list)\n",
    "    for time_ind, row in df.iterrows():\n",
    "        for ind, r in enumerate(row):\n",
    "            if int(r) == 1:\n",
    "                note = Note()\n",
    "                note.from_int(ind)\n",
    "                \n",
    "                if str(note.name) not in map_filter:\n",
    "                    row[ind] = 0\n",
    "                    \n",
    "    return df"
   ]
  },
  {
   "cell_type": "code",
   "execution_count": 353,
   "metadata": {},
   "outputs": [
    {
     "name": "stdout",
     "output_type": "stream",
     "text": [
      "                                           ██                                           \n",
      "                                          ██ █                                          \n",
      "                                         ██  ██                                         \n",
      "                                        ██ ███ █                                        \n",
      "                                       ██  █   ██                                       \n",
      "                                      ██ ████ ██ █                                      \n",
      "                                     ██  █    █  ██                                     \n",
      "                                    ██ ████  █████ █                                    \n",
      "                                   ██  █   ███     ██                                   \n",
      "                                  ██ ████ ██  █   ██ █                                  \n",
      "                                 ██  █    █ ████ ██  ██                                 \n",
      "                                ██ ████  ██ █    █ ███ █                                \n",
      "                               ██  █   ███  ██  ██ █   ██                               \n",
      "                              ██ ████ ██  ███ ███  ██ ██ █                              \n",
      "                             ██  █    █ ███   █  ███  █  ██                             \n",
      "                            ██ ████  ██ █  █ █████  ██████ █                            \n",
      "                           ██  █   ███  ████ █    ███      ██                           \n",
      "                          ██ ████ ██  ███    ██  ██  █    ██ █                          \n",
      "                         ██  █    █ ███  █  ██ ███ ████  ██  ██                         \n",
      "                        ██ ████  ██ █  ██████  █   █   ███ ███ █                        \n"
     ]
    }
   ],
   "source": [
    "# Create the Cellular Automata\n",
    "c = create_elem_cell_auto_df(MAX_TIME, MAX_ROW_LEN, rule_30_states)\n",
    "print_elem_cell_auto(c)"
   ]
  },
  {
   "cell_type": "code",
   "execution_count": 356,
   "metadata": {},
   "outputs": [
    {
     "name": "stdout",
     "output_type": "stream",
     "text": [
      "['C', 'E', 'G']\n",
      "                                           █                                            \n",
      "                                           █                                            \n",
      "                                                                                        \n",
      "                                        █  █                                            \n",
      "                                        █  █    █                                       \n",
      "                                           █                                            \n",
      "                                                                                        \n",
      "                                    █   █       █                                       \n",
      "                                    █      █        █                                   \n",
      "                                        █  █                                            \n",
      "                                                                                        \n",
      "                                    █               █  █                                \n",
      "                               █        █       █      █                                \n",
      "                               █    █      █    █   █  █                                \n",
      "                                        █                                               \n",
      "                            █  █        █  █    █   █  █                                \n",
      "                            █  █    █   █  █        █       █                           \n",
      "                               █        █                                               \n",
      "                                    █           █   █                                   \n",
      "                        █   █       █   █  █           █    █                           \n"
     ]
    }
   ],
   "source": [
    "# https://dmitri.mycpanel.princeton.edu/whatmakesmusicsoundgood.html\n",
    "# Filter the Cellular Automata by scales\n",
    "# scales.Chromatic(\"f\").ascending()\n",
    "notes_filter = chords.major_triad(\"C\")\n",
    "print(notes_filter)\n",
    "c = piano_filter_elem_cell_auto(c, notes_filter)\n",
    "print_elem_cell_auto(c)\n",
    "piano_elem_cell_auto(c)"
   ]
  },
  {
   "cell_type": "code",
   "execution_count": 357,
   "metadata": {},
   "outputs": [
    {
     "ename": "NameError",
     "evalue": "name 'diatonic' is not defined",
     "output_type": "error",
     "traceback": [
      "\u001b[0;31m---------------------------------------------------------------------------\u001b[0m",
      "\u001b[0;31mNameError\u001b[0m                                 Traceback (most recent call last)",
      "\u001b[0;32m<ipython-input-357-28bfeaf53fd3>\u001b[0m in \u001b[0;36m<module>\u001b[0;34m\u001b[0m\n\u001b[1;32m      1\u001b[0m \u001b[0;31m# Filter the Cellular Automata by scales\u001b[0m\u001b[0;34m\u001b[0m\u001b[0;34m\u001b[0m\u001b[0;34m\u001b[0m\u001b[0m\n\u001b[0;32m----> 2\u001b[0;31m \u001b[0mdiatonic\u001b[0m\u001b[0;34m.\u001b[0m\u001b[0mget_notes\u001b[0m\u001b[0;34m(\u001b[0m\u001b[0;34m\"C\"\u001b[0m\u001b[0;34m)\u001b[0m\u001b[0;34m\u001b[0m\u001b[0;34m\u001b[0m\u001b[0m\n\u001b[0m",
      "\u001b[0;31mNameError\u001b[0m: name 'diatonic' is not defined"
     ]
    }
   ],
   "source": [
    "# Filter the Cellular Automata by scales\n"
   ]
  },
  {
   "cell_type": "code",
   "execution_count": null,
   "metadata": {},
   "outputs": [],
   "source": []
  }
 ],
 "metadata": {
  "kernelspec": {
   "display_name": "Python 3",
   "language": "python",
   "name": "python3"
  },
  "language_info": {
   "codemirror_mode": {
    "name": "ipython",
    "version": 3
   },
   "file_extension": ".py",
   "mimetype": "text/x-python",
   "name": "python",
   "nbconvert_exporter": "python",
   "pygments_lexer": "ipython3",
   "version": "3.8.5"
  }
 },
 "nbformat": 4,
 "nbformat_minor": 4
}
