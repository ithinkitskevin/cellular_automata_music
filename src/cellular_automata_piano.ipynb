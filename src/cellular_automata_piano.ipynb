{
 "cells": [
  {
   "cell_type": "code",
   "execution_count": 31,
   "metadata": {},
   "outputs": [],
   "source": [
    "from mingus.midi import fluidsynth\n",
    "import time\n",
    "import pandas as pd\n",
    "import numpy as np"
   ]
  },
  {
   "cell_type": "code",
   "execution_count": 2,
   "metadata": {},
   "outputs": [],
   "source": [
    "from mingus.containers import Composition, Track, Note, Bar"
   ]
  },
  {
   "cell_type": "code",
   "execution_count": 25,
   "metadata": {},
   "outputs": [
    {
     "data": {
      "text/plain": [
       "True"
      ]
     },
     "execution_count": 25,
     "metadata": {},
     "output_type": "execute_result"
    }
   ],
   "source": [
    "# Testing notes\n",
    "fluidsynth.init('/usr/share/sounds/sf2/FluidR3_GM.sf2',\"alsa\")\n",
    "n = Note(\"E-5\")\n",
    "n.velocity = 127\n",
    "fluidsynth.play_Note(n)"
   ]
  },
  {
   "cell_type": "code",
   "execution_count": 166,
   "metadata": {},
   "outputs": [],
   "source": [
    "# Constants\n",
    "MAX_TIME = 20\n",
    "MAX_ROW_LEN = 88  # Picked as 88 keys, but arbitrary \n",
    "rule_30_states = {\"111\": '0', \"110\": '0', \"101\": '0', \"000\": '0', \"100\": '1', \"011\": '1', \"010\": '1', \"001\": '1'}"
   ]
  },
  {
   "cell_type": "code",
   "execution_count": 175,
   "metadata": {},
   "outputs": [],
   "source": [
    "def create_elem_cell_auto_df(max_time, row_len, rule):\n",
    "    df = pd.DataFrame(np.zeros((max_time, row_len)))\n",
    "\n",
    "    for time, row in df.iterrows():\n",
    "        if time == 0:\n",
    "            # Initialize, depending on if the row length is even/odd\n",
    "            start_ind = int(len(row) / 2)\n",
    "            if len(row) % 2 == 0:\n",
    "                row[start_ind] = 1\n",
    "                row[start_ind-1] = 1\n",
    "            else:\n",
    "                row[start_ind] = 1\n",
    "            continue\n",
    "        for ind in range(1, len(row)-1):\n",
    "            key = str(int(df.loc[time-1][ind-1])) + str(int(df.loc[time-1][ind])) + str(int(df.loc[time-1][ind+1]))\n",
    "            value = rule.get(key, 0)\n",
    "            row[ind] = value\n",
    "\n",
    "    return df"
   ]
  },
  {
   "cell_type": "code",
   "execution_count": 186,
   "metadata": {},
   "outputs": [],
   "source": [
    "def print_elem_cell_auto_df(df):\n",
    "    for time, row in df.iterrows():\n",
    "        for r in row:\n",
    "            if int(r) == 1:\n",
    "                print(u'\\u2588', end = '')\n",
    "            else:\n",
    "                print(' ', end = '')\n",
    "        print('')"
   ]
  },
  {
   "cell_type": "code",
   "execution_count": 187,
   "metadata": {},
   "outputs": [
    {
     "name": "stdout",
     "output_type": "stream",
     "text": [
      "                                           ██                                           \n",
      "                                          ██ █                                          \n",
      "                                         ██  ██                                         \n",
      "                                        ██ ███ █                                        \n",
      "                                       ██  █   ██                                       \n",
      "                                      ██ ████ ██ █                                      \n",
      "                                     ██  █    █  ██                                     \n",
      "                                    ██ ████  █████ █                                    \n",
      "                                   ██  █   ███     ██                                   \n",
      "                                  ██ ████ ██  █   ██ █                                  \n",
      "                                 ██  █    █ ████ ██  ██                                 \n",
      "                                ██ ████  ██ █    █ ███ █                                \n",
      "                               ██  █   ███  ██  ██ █   ██                               \n",
      "                              ██ ████ ██  ███ ███  ██ ██ █                              \n",
      "                             ██  █    █ ███   █  ███  █  ██                             \n",
      "                            ██ ████  ██ █  █ █████  ██████ █                            \n",
      "                           ██  █   ███  ████ █    ███      ██                           \n",
      "                          ██ ████ ██  ███    ██  ██  █    ██ █                          \n",
      "                         ██  █    █ ███  █  ██ ███ ████  ██  ██                         \n",
      "                        ██ ████  ██ █  ██████  █   █   ███ ███ █                        \n"
     ]
    }
   ],
   "source": [
    "c = create_elem_cell_auto_df(MAX_TIME, MAX_ROW_LEN, rule_30_states)\n",
    "print_elem_cell_auto_df(c)"
   ]
  },
  {
   "cell_type": "code",
   "execution_count": null,
   "metadata": {},
   "outputs": [],
   "source": []
  },
  {
   "cell_type": "code",
   "execution_count": null,
   "metadata": {},
   "outputs": [],
   "source": []
  }
 ],
 "metadata": {
  "kernelspec": {
   "display_name": "Python 3",
   "language": "python",
   "name": "python3"
  },
  "language_info": {
   "codemirror_mode": {
    "name": "ipython",
    "version": 3
   },
   "file_extension": ".py",
   "mimetype": "text/x-python",
   "name": "python",
   "nbconvert_exporter": "python",
   "pygments_lexer": "ipython3",
   "version": "3.8.5"
  }
 },
 "nbformat": 4,
 "nbformat_minor": 4
}
