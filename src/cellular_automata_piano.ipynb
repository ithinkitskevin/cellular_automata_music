{
 "cells": [
  {
   "cell_type": "code",
   "execution_count": 18,
   "metadata": {},
   "outputs": [],
   "source": [
    "from mingus.containers import Composition, Track, Note, Bar, NoteContainer\n",
    "from mingus.midi import fluidsynth\n",
    "\n",
    "import mingus.core.chords as chords\n",
    "import mingus.core.notes as notes\n",
    "import mingus.core.scales as scales\n",
    "\n",
    "import random\n",
    "import time\n",
    "import pandas as pd\n",
    "import numpy as np"
   ]
  },
  {
   "cell_type": "code",
   "execution_count": 2,
   "metadata": {},
   "outputs": [],
   "source": [
    "# Constants\n",
    "MAX_TIME = 20\n",
    "MAX_ROW_LEN = 88  # Picked as 88 keys, but arbitrary \n",
    "rule_30_states = {\"111\": '0', \"110\": '0', \"101\": '0', \"000\": '0', \"100\": '1', \"011\": '1', \"010\": '1', \"001\": '1'}"
   ]
  },
  {
   "cell_type": "code",
   "execution_count": 3,
   "metadata": {},
   "outputs": [],
   "source": [
    "def create_elem_cell_auto_df(max_time, row_len, rule, initial_starts = None):\n",
    "    df = pd.DataFrame(np.zeros((max_time, row_len)))\n",
    "\n",
    "    for time, row in df.iterrows():\n",
    "        if time == 0:\n",
    "            if initial_starts is not None: \n",
    "                for start_ind in initial_starts:\n",
    "                    row[start_ind] = 1\n",
    "            else:\n",
    "                # Initialize, depending on if the row length is even/odd\n",
    "                start_ind = int(len(row) / 2)\n",
    "                if len(row) % 2 == 0:\n",
    "                    row[start_ind] = 1\n",
    "                    row[start_ind-1] = 1\n",
    "                else:\n",
    "                    row[start_ind] = 1\n",
    "                \n",
    "            continue\n",
    "        for ind in range(1, len(row)-1):\n",
    "            key = str(int(df.loc[time-1][ind-1])) + str(int(df.loc[time-1][ind])) + str(int(df.loc[time-1][ind+1]))\n",
    "            value = rule.get(key, 0)\n",
    "            row[ind] = value\n",
    "\n",
    "    return df"
   ]
  },
  {
   "cell_type": "code",
   "execution_count": 4,
   "metadata": {},
   "outputs": [],
   "source": [
    "def print_elem_cell_auto(df):\n",
    "    for time, row in df.iterrows():\n",
    "        for r in row:\n",
    "            if int(r) == 1:\n",
    "                print(u'\\u2588', end = '')\n",
    "            else:\n",
    "                print(' ', end = '')\n",
    "        print('')"
   ]
  },
  {
   "cell_type": "code",
   "execution_count": 31,
   "metadata": {},
   "outputs": [],
   "source": [
    "def piano_elem_cell_auto(df):\n",
    "    for time_ind, row in df.iterrows():\n",
    "        note_container = NoteContainer()\n",
    "        i = 0\n",
    "        for ind, r in enumerate(row):\n",
    "            if int(r) == 1:\n",
    "                if i >= 3:\n",
    "                    continue\n",
    "                note = Note()\n",
    "                note.from_int(ind)\n",
    "                i+=1\n",
    "                \n",
    "                note_container.add_notes(note)\n",
    "        fluidsynth.play_NoteContainer(note_container)\n",
    "        time.sleep(0.5)"
   ]
  },
  {
   "cell_type": "code",
   "execution_count": 35,
   "metadata": {},
   "outputs": [],
   "source": [
    "def piano_filter_elem_cell_auto(df, filter_list: list):\n",
    "    map_filter = set(filter_list)\n",
    "    for time_ind, row in df.iterrows():\n",
    "        for ind, r in enumerate(row):\n",
    "            if int(r) == 1: # If it's a note\n",
    "                note = Note()\n",
    "                note.from_int(ind)\n",
    "                \n",
    "                if str(note.name) not in map_filter:\n",
    "                    row[ind] = 0\n",
    "                    \n",
    "    return df"
   ]
  },
  {
   "cell_type": "code",
   "execution_count": 36,
   "metadata": {},
   "outputs": [
    {
     "name": "stdout",
     "output_type": "stream",
     "text": [
      "                                           ██                                           \n",
      "                                          ██ █                                          \n",
      "                                         ██  ██                                         \n",
      "                                        ██ ███ █                                        \n",
      "                                       ██  █   ██                                       \n",
      "                                      ██ ████ ██ █                                      \n",
      "                                     ██  █    █  ██                                     \n",
      "                                    ██ ████  █████ █                                    \n",
      "                                   ██  █   ███     ██                                   \n",
      "                                  ██ ████ ██  █   ██ █                                  \n",
      "                                 ██  █    █ ████ ██  ██                                 \n",
      "                                ██ ████  ██ █    █ ███ █                                \n",
      "                               ██  █   ███  ██  ██ █   ██                               \n",
      "                              ██ ████ ██  ███ ███  ██ ██ █                              \n",
      "                             ██  █    █ ███   █  ███  █  ██                             \n",
      "                            ██ ████  ██ █  █ █████  ██████ █                            \n",
      "                           ██  █   ███  ████ █    ███      ██                           \n",
      "                          ██ ████ ██  ███    ██  ██  █    ██ █                          \n",
      "                         ██  █    █ ███  █  ██ ███ ████  ██  ██                         \n",
      "                        ██ ████  ██ █  ██████  █   █   ███ ███ █                        \n"
     ]
    }
   ],
   "source": [
    "# Create the Cellular Automata\n",
    "c = create_elem_cell_auto_df(MAX_TIME, MAX_ROW_LEN, rule_30_states)\n",
    "print_elem_cell_auto(c)"
   ]
  },
  {
   "cell_type": "code",
   "execution_count": 37,
   "metadata": {},
   "outputs": [
    {
     "name": "stdout",
     "output_type": "stream",
     "text": [
      "['C', 'D', 'E', 'F', 'G', 'A', 'B', 'C']\n",
      "                                           █                                            \n",
      "                                           █ █                                          \n",
      "                                         █   █                                          \n",
      "                                        ██ █ █ █                                        \n",
      "                                        █  █   ██                                       \n",
      "                                      █  █ █   █                                        \n",
      "                                      █  █        █                                     \n",
      "                                    █   ██   █ ██                                       \n",
      "                                   ██      █ █      █                                   \n",
      "                                   █  █ █  █      █  █                                  \n",
      "                                 █           █ █  █  █                                  \n",
      "                                 █ ██ █  █          ██ █                                \n",
      "                               █   █    ██   █  █      █                                \n",
      "                               █ █ ██ █    █   ██   █  █ █                              \n",
      "                             █   █    █ ██        █      █                              \n",
      "                            ██ █ █    █ █  █ █ ██   ██ █ █ █                            \n",
      "                            █  █   ██   ██ █ █    █ █      ██                           \n",
      "                          █  █ █   █  █ █    █    █  █     █                            \n",
      "                          █  █      █ █  █   █ ██   ██   █    █                         \n",
      "                        █   ██   █  █   ██ █   █       █ █ ██                           \n"
     ]
    }
   ],
   "source": [
    "# https://dmitri.mycpanel.princeton.edu/whatmakesmusicsoundgood.html\n",
    "# Filter the Cellular Automata by scales\n",
    "notes_filter = scales.Major(\"C\").ascending()\n",
    "print(notes_filter)\n",
    "c = piano_filter_elem_cell_auto(c, notes_filter)\n",
    "print_elem_cell_auto(c)"
   ]
  },
  {
   "cell_type": "code",
   "execution_count": 41,
   "metadata": {},
   "outputs": [],
   "source": [
    "def convert_piano_to_dict(df):\n",
    "    piano_dict = {}\n",
    "    for time_ind, row in df.iterrows():\n",
    "        notes = []\n",
    "        for ind, r in enumerate(row):\n",
    "            if int(r) == 1: # If it's a note\n",
    "                notes.append(ind)\n",
    "        piano_dict[time_ind] = notes\n",
    "        \n",
    "    return piano_dict"
   ]
  },
  {
   "cell_type": "code",
   "execution_count": 42,
   "metadata": {},
   "outputs": [],
   "source": [
    "r = convert_piano_to_dict(c)"
   ]
  },
  {
   "cell_type": "code",
   "execution_count": 43,
   "metadata": {},
   "outputs": [
    {
     "name": "stdout",
     "output_type": "stream",
     "text": [
      "{0: [43], 1: [43, 45], 2: [41, 45], 3: [40, 41, 43, 45, 47], 4: [40, 43, 47, 48], 5: [38, 41, 43, 47], 6: [38, 41, 50], 7: [36, 40, 41, 45, 47, 48], 8: [35, 36, 43, 45, 52], 9: [35, 38, 40, 43, 50, 53], 10: [33, 45, 47, 50, 53], 11: [33, 35, 36, 38, 41, 52, 53, 55], 12: [31, 35, 40, 41, 45, 48, 55], 13: [31, 33, 35, 36, 38, 43, 47, 48, 52, 55, 57], 14: [29, 33, 38, 40, 41, 50, 57], 15: [28, 29, 31, 33, 38, 40, 43, 45, 47, 48, 52, 53, 55, 57, 59], 16: [28, 31, 35, 36, 40, 41, 43, 45, 50, 52, 59, 60], 17: [26, 29, 31, 35, 38, 40, 45, 50, 53, 59], 18: [26, 29, 36, 38, 41, 45, 47, 48, 52, 53, 57, 62], 19: [24, 28, 29, 33, 36, 40, 41, 43, 47, 55, 57, 59, 60]}\n"
     ]
    }
   ],
   "source": [
    "print(r)"
   ]
  },
  {
   "cell_type": "code",
   "execution_count": 69,
   "metadata": {},
   "outputs": [],
   "source": [
    "# Voice Leading\n",
    "def piano_voice_leading(notes):\n",
    "    random_threshold = random.randint(2,5)\n",
    "    direction = +1\n",
    "    \n",
    "    ref_notes = []\n",
    "    end = len(notes)\n",
    "    print(end)\n",
    "    dict_notes = {}\n",
    "    for time_ind, row in notes.items():\n",
    "        print(time_ind, row)\n",
    "        if time_ind == 0:\n",
    "            ref_notes = row\n",
    "            continue\n",
    "        if random_threshold == 0:\n",
    "            direction = +1 if direction == -1 else -1\n",
    "            random_threshold = random.randint(2,5)\n",
    "        \n",
    "        new_row = []\n",
    "        for ref_note in ref_notes:\n",
    "            for pointed_note in row:\n",
    "                if direction == +1:\n",
    "                    # Find the next note up for all previous notes\n",
    "                    if pointed_note > ref_note:\n",
    "                        new_row.append(pointed_note)\n",
    "                        continue\n",
    "                else:\n",
    "                    if pointed_note < ref_note:\n",
    "                        new_row.append(pointed_note)\n",
    "                        continue\n",
    "        dict_notes[time_ind] = new_row\n",
    "        random_threshold-=1\n",
    "            \n",
    "    return dict_notes"
   ]
  },
  {
   "cell_type": "code",
   "execution_count": 70,
   "metadata": {},
   "outputs": [
    {
     "name": "stdout",
     "output_type": "stream",
     "text": [
      "20\n",
      "0 [43]\n",
      "1 [43, 45]\n",
      "2 [41, 45]\n",
      "3 [40, 41, 43, 45, 47]\n",
      "4 [40, 43, 47, 48]\n",
      "5 [38, 41, 43, 47]\n",
      "6 [38, 41, 50]\n",
      "7 [36, 40, 41, 45, 47, 48]\n",
      "8 [35, 36, 43, 45, 52]\n",
      "9 [35, 38, 40, 43, 50, 53]\n",
      "10 [33, 45, 47, 50, 53]\n",
      "11 [33, 35, 36, 38, 41, 52, 53, 55]\n",
      "12 [31, 35, 40, 41, 45, 48, 55]\n",
      "13 [31, 33, 35, 36, 38, 43, 47, 48, 52, 55, 57]\n",
      "14 [29, 33, 38, 40, 41, 50, 57]\n",
      "15 [28, 29, 31, 33, 38, 40, 43, 45, 47, 48, 52, 53, 55, 57, 59]\n",
      "16 [28, 31, 35, 36, 40, 41, 43, 45, 50, 52, 59, 60]\n",
      "17 [26, 29, 31, 35, 38, 40, 45, 50, 53, 59]\n",
      "18 [26, 29, 36, 38, 41, 45, 47, 48, 52, 53, 57, 62]\n",
      "19 [24, 28, 29, 33, 36, 40, 41, 43, 47, 55, 57, 59, 60]\n"
     ]
    }
   ],
   "source": [
    "s = piano_voice_leading(r)"
   ]
  },
  {
   "cell_type": "code",
   "execution_count": 71,
   "metadata": {},
   "outputs": [
    {
     "data": {
      "text/plain": [
       "{1: [45],\n",
       " 2: [45],\n",
       " 3: [40, 41],\n",
       " 4: [40],\n",
       " 5: [38, 41],\n",
       " 6: [38, 41],\n",
       " 7: [45, 47, 48],\n",
       " 8: [45, 52],\n",
       " 9: [50, 53],\n",
       " 10: [45, 47, 50, 53],\n",
       " 11: [52, 53, 55],\n",
       " 12: [31, 35, 40, 41],\n",
       " 13: [31, 33, 35, 36, 38],\n",
       " 14: [29, 33, 38, 40, 41],\n",
       " 15: [28, 29, 31, 33, 38, 40],\n",
       " 16: [45, 50, 52, 59, 60],\n",
       " 17: [45, 50, 53, 59],\n",
       " 18: [45, 47, 48, 52, 53, 57, 62],\n",
       " 19: [47, 55, 57, 59, 60]}"
      ]
     },
     "execution_count": 71,
     "metadata": {},
     "output_type": "execute_result"
    }
   ],
   "source": [
    "s"
   ]
  },
  {
   "cell_type": "code",
   "execution_count": null,
   "metadata": {},
   "outputs": [],
   "source": []
  }
 ],
 "metadata": {
  "kernelspec": {
   "display_name": "Python 3",
   "language": "python",
   "name": "python3"
  },
  "language_info": {
   "codemirror_mode": {
    "name": "ipython",
    "version": 3
   },
   "file_extension": ".py",
   "mimetype": "text/x-python",
   "name": "python",
   "nbconvert_exporter": "python",
   "pygments_lexer": "ipython3",
   "version": "3.8.5"
  }
 },
 "nbformat": 4,
 "nbformat_minor": 4
}
